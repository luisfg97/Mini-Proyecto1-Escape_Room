{
 "cells": [
  {
   "cell_type": "code",
   "execution_count": 4,
   "id": "d2fdb94b",
   "metadata": {},
   "outputs": [],
   "source": [
    "from datos_juego import *\n",
    "from room_logic import *"
   ]
  },
  {
   "cell_type": "code",
   "execution_count": null,
   "id": "77f3c44d",
   "metadata": {},
   "outputs": [
    {
     "name": "stdout",
     "output_type": "stream",
     "text": [
      "Te encuentras despertando en un sofá desconocido, en una casa inquietante y sin ventanas. Tu memoria no te explica cómo llegaste allí ni qué ocurrió antes. Presientes una amenaza inminente acechando en alguna parte: ¡tu instinto te dice que escapes de la casa inmediatamente!\n",
      "Escoge alguna cosa de la sala.\n",
      "Escoge alguna cosa de la sala.\n",
      "Escoge alguna cosa de la sala.\n",
      "Escoge alguna cosa de la sala.\n",
      "Escoge alguna cosa de la sala.\n",
      "Escoge alguna cosa de la sala.\n",
      "Escoge alguna cosa de la sala.\n",
      "Escoge alguna cosa de la sala.\n",
      "Escoge alguna cosa de la sala.\n",
      "Escoge alguna cosa de la sala.\n",
      "Escoge alguna cosa de la sala.\n",
      "Escoge alguna cosa de la sala.\n",
      "Escoge alguna cosa de la sala.\n"
     ]
    }
   ],
   "source": [
    "game_room_eleccion(inventory)\n",
    "\n",
    "room1_eleccion(inventory)\n",
    "\n",
    "puerta_eleccion(inventory)\n",
    "\n",
    "room2_eleccion(inventory)\n",
    "\n",
    "salon_eleccion(inventory)"
   ]
  },
  {
   "cell_type": "code",
   "execution_count": null,
   "id": "41c5e3e8",
   "metadata": {},
   "outputs": [],
   "source": []
  }
 ],
 "metadata": {
  "kernelspec": {
   "display_name": "Python 3",
   "language": "python",
   "name": "python3"
  },
  "language_info": {
   "codemirror_mode": {
    "name": "ipython",
    "version": 3
   },
   "file_extension": ".py",
   "mimetype": "text/x-python",
   "name": "python",
   "nbconvert_exporter": "python",
   "pygments_lexer": "ipython3",
   "version": "3.11.9"
  }
 },
 "nbformat": 4,
 "nbformat_minor": 5
}
